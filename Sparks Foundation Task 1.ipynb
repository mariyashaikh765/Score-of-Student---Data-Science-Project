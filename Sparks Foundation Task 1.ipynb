{
 "cells": [
  {
   "cell_type": "markdown",
   "id": "cb36211b",
   "metadata": {},
   "source": [
    "# *THE SPARKS FOUNDATION- Data Science and Business Analytics - Sept'22*"
   ]
  },
  {
   "cell_type": "markdown",
   "id": "a9812da3",
   "metadata": {},
   "source": [
    "# *Name: Shaikh Mariya*"
   ]
  },
  {
   "cell_type": "markdown",
   "id": "fe9bfac9",
   "metadata": {},
   "source": [
    "#  *Prediction Using Supervised ML* "
   ]
  },
  {
   "cell_type": "markdown",
   "id": "ac0dd3fd",
   "metadata": {},
   "source": [
    "# Task 1: Predict the percentage of an student based on the no. of study Hours"
   ]
  },
  {
   "cell_type": "markdown",
   "id": "bb253e79",
   "metadata": {},
   "source": [
    "# Importing all the Necessary Libraries:"
   ]
  },
  {
   "cell_type": "code",
   "execution_count": 1,
   "id": "69fa2a70",
   "metadata": {},
   "outputs": [],
   "source": [
    "import pandas as pd\n",
    "import numpy as np\n",
    "import matplotlib.pyplot as plt\n",
    "import seaborn as sns\n",
    "from sklearn.model_selection import train_test_split\n",
    "from sklearn.linear_model import LinearRegression"
   ]
  },
  {
   "cell_type": "markdown",
   "id": "c90787a5",
   "metadata": {},
   "source": [
    "# Importing the Dataset and Visualizing it"
   ]
  },
  {
   "cell_type": "code",
   "execution_count": 2,
   "id": "698371d7",
   "metadata": {},
   "outputs": [
    {
     "data": {
      "text/html": [
       "<div>\n",
       "<style scoped>\n",
       "    .dataframe tbody tr th:only-of-type {\n",
       "        vertical-align: middle;\n",
       "    }\n",
       "\n",
       "    .dataframe tbody tr th {\n",
       "        vertical-align: top;\n",
       "    }\n",
       "\n",
       "    .dataframe thead th {\n",
       "        text-align: right;\n",
       "    }\n",
       "</style>\n",
       "<table border=\"1\" class=\"dataframe\">\n",
       "  <thead>\n",
       "    <tr style=\"text-align: right;\">\n",
       "      <th></th>\n",
       "      <th>Hours</th>\n",
       "      <th>Scores</th>\n",
       "    </tr>\n",
       "  </thead>\n",
       "  <tbody>\n",
       "    <tr>\n",
       "      <th>0</th>\n",
       "      <td>2.5</td>\n",
       "      <td>21</td>\n",
       "    </tr>\n",
       "    <tr>\n",
       "      <th>1</th>\n",
       "      <td>5.1</td>\n",
       "      <td>47</td>\n",
       "    </tr>\n",
       "    <tr>\n",
       "      <th>2</th>\n",
       "      <td>3.2</td>\n",
       "      <td>27</td>\n",
       "    </tr>\n",
       "    <tr>\n",
       "      <th>3</th>\n",
       "      <td>8.5</td>\n",
       "      <td>75</td>\n",
       "    </tr>\n",
       "    <tr>\n",
       "      <th>4</th>\n",
       "      <td>3.5</td>\n",
       "      <td>30</td>\n",
       "    </tr>\n",
       "  </tbody>\n",
       "</table>\n",
       "</div>"
      ],
      "text/plain": [
       "   Hours  Scores\n",
       "0    2.5      21\n",
       "1    5.1      47\n",
       "2    3.2      27\n",
       "3    8.5      75\n",
       "4    3.5      30"
      ]
     },
     "execution_count": 2,
     "metadata": {},
     "output_type": "execute_result"
    }
   ],
   "source": [
    "student=pd.read_csv('C:\\\\Users\\\\SHAIKH MARIYA\\\\Downloads\\\\Sparks Foundation 1.csv')\n",
    "student.head()"
   ]
  },
  {
   "cell_type": "code",
   "execution_count": 3,
   "id": "77e44bda",
   "metadata": {},
   "outputs": [
    {
     "data": {
      "text/html": [
       "<div>\n",
       "<style scoped>\n",
       "    .dataframe tbody tr th:only-of-type {\n",
       "        vertical-align: middle;\n",
       "    }\n",
       "\n",
       "    .dataframe tbody tr th {\n",
       "        vertical-align: top;\n",
       "    }\n",
       "\n",
       "    .dataframe thead th {\n",
       "        text-align: right;\n",
       "    }\n",
       "</style>\n",
       "<table border=\"1\" class=\"dataframe\">\n",
       "  <thead>\n",
       "    <tr style=\"text-align: right;\">\n",
       "      <th></th>\n",
       "      <th>Hours</th>\n",
       "      <th>Scores</th>\n",
       "    </tr>\n",
       "  </thead>\n",
       "  <tbody>\n",
       "    <tr>\n",
       "      <th>count</th>\n",
       "      <td>25.000000</td>\n",
       "      <td>25.000000</td>\n",
       "    </tr>\n",
       "    <tr>\n",
       "      <th>mean</th>\n",
       "      <td>5.012000</td>\n",
       "      <td>51.480000</td>\n",
       "    </tr>\n",
       "    <tr>\n",
       "      <th>std</th>\n",
       "      <td>2.525094</td>\n",
       "      <td>25.286887</td>\n",
       "    </tr>\n",
       "    <tr>\n",
       "      <th>min</th>\n",
       "      <td>1.100000</td>\n",
       "      <td>17.000000</td>\n",
       "    </tr>\n",
       "    <tr>\n",
       "      <th>25%</th>\n",
       "      <td>2.700000</td>\n",
       "      <td>30.000000</td>\n",
       "    </tr>\n",
       "    <tr>\n",
       "      <th>50%</th>\n",
       "      <td>4.800000</td>\n",
       "      <td>47.000000</td>\n",
       "    </tr>\n",
       "    <tr>\n",
       "      <th>75%</th>\n",
       "      <td>7.400000</td>\n",
       "      <td>75.000000</td>\n",
       "    </tr>\n",
       "    <tr>\n",
       "      <th>max</th>\n",
       "      <td>9.200000</td>\n",
       "      <td>95.000000</td>\n",
       "    </tr>\n",
       "  </tbody>\n",
       "</table>\n",
       "</div>"
      ],
      "text/plain": [
       "           Hours     Scores\n",
       "count  25.000000  25.000000\n",
       "mean    5.012000  51.480000\n",
       "std     2.525094  25.286887\n",
       "min     1.100000  17.000000\n",
       "25%     2.700000  30.000000\n",
       "50%     4.800000  47.000000\n",
       "75%     7.400000  75.000000\n",
       "max     9.200000  95.000000"
      ]
     },
     "execution_count": 3,
     "metadata": {},
     "output_type": "execute_result"
    }
   ],
   "source": [
    "student.describe()"
   ]
  },
  {
   "cell_type": "markdown",
   "id": "9801fce4",
   "metadata": {},
   "source": [
    "## Checking for Null Values"
   ]
  },
  {
   "cell_type": "code",
   "execution_count": 4,
   "id": "68d0843d",
   "metadata": {},
   "outputs": [
    {
     "name": "stdout",
     "output_type": "stream",
     "text": [
      "<class 'pandas.core.frame.DataFrame'>\n",
      "RangeIndex: 25 entries, 0 to 24\n",
      "Data columns (total 2 columns):\n",
      " #   Column  Non-Null Count  Dtype  \n",
      "---  ------  --------------  -----  \n",
      " 0   Hours   25 non-null     float64\n",
      " 1   Scores  25 non-null     int64  \n",
      "dtypes: float64(1), int64(1)\n",
      "memory usage: 528.0 bytes\n"
     ]
    }
   ],
   "source": [
    "student.info()"
   ]
  },
  {
   "cell_type": "markdown",
   "id": "2f4047da",
   "metadata": {},
   "source": [
    "This dataset doesn't contains any Null values, so it doesn't require Data Wrangling"
   ]
  },
  {
   "cell_type": "markdown",
   "id": "01a7f1ac",
   "metadata": {},
   "source": [
    "## Examining the Distribution of Data Points"
   ]
  },
  {
   "cell_type": "code",
   "execution_count": 5,
   "id": "19262009",
   "metadata": {},
   "outputs": [
    {
     "data": {
      "image/png": "[encoded data removed]",
      "text/plain": [
       "<Figure size 432x288 with 1 Axes>"
      ]
     },
     "metadata": {
      "needs_background": "light"
     },
     "output_type": "display_data"
    }
   ],
   "source": [
    "plt.scatter(student['Hours'], student['Scores'])\n",
    "plt.title('Hours VS Scores Scatter Plot', color='r', size=15)\n",
    "plt.xlabel('Hours of Study', color='b', size=15)\n",
    "plt.ylabel('Scores', color='b', size=15)\n",
    "plt.show()"
   ]
  },
  {
   "cell_type": "markdown",
   "id": "2578c448",
   "metadata": {},
   "source": [
    "The above plot shows that there is a Linear Relation Between Hours and Scores of Students"
   ]
  },
  {
   "cell_type": "markdown",
   "id": "1509d38a",
   "metadata": {},
   "source": [
    "## *Application of Linear Regression Model*"
   ]
  },
  {
   "cell_type": "markdown",
   "id": "c37f6963",
   "metadata": {},
   "source": [
    "## Segregating the Data and Target"
   ]
  },
  {
   "cell_type": "code",
   "execution_count": 6,
   "id": "380e63cb",
   "metadata": {},
   "outputs": [],
   "source": [
    "x=student.iloc[:, :-1].values\n",
    "y=student.iloc[:, -1].values"
   ]
  },
  {
   "cell_type": "markdown",
   "id": "0049807e",
   "metadata": {},
   "source": [
    "## Separating the Training and Testing Data"
   ]
  },
  {
   "cell_type": "code",
   "execution_count": 7,
   "id": "04ad6e0f",
   "metadata": {},
   "outputs": [],
   "source": [
    "x_train, x_test, y_train, y_test= train_test_split(x, y, test_size=0.3)"
   ]
  },
  {
   "cell_type": "code",
   "execution_count": 8,
   "id": "2fb5d5cf",
   "metadata": {},
   "outputs": [
    {
     "name": "stdout",
     "output_type": "stream",
     "text": [
      "(17, 1)\n",
      "(8, 1)\n"
     ]
    }
   ],
   "source": [
    "print(x_train.shape)\n",
    "print(x_test.shape)"
   ]
  },
  {
   "cell_type": "markdown",
   "id": "500644e5",
   "metadata": {},
   "source": [
    "# *Model Training*"
   ]
  },
  {
   "cell_type": "code",
   "execution_count": 9,
   "id": "dccac51a",
   "metadata": {},
   "outputs": [],
   "source": [
    "lr= LinearRegression()"
   ]
  },
  {
   "cell_type": "markdown",
   "id": "32ba54d8",
   "metadata": {},
   "source": [
    "## Fitting the Model"
   ]
  },
  {
   "cell_type": "code",
   "execution_count": 10,
   "id": "7c416122",
   "metadata": {},
   "outputs": [
    {
     "data": {
      "text/plain": [
       "LinearRegression()"
      ]
     },
     "execution_count": 10,
     "metadata": {},
     "output_type": "execute_result"
    }
   ],
   "source": [
    "model=lr.fit(x_train, y_train)\n",
    "model"
   ]
  },
  {
   "cell_type": "markdown",
   "id": "b38d0a65",
   "metadata": {},
   "source": [
    "## Checking the Distribution of Training Set"
   ]
  },
  {
   "cell_type": "code",
   "execution_count": 11,
   "id": "d6977dae",
   "metadata": {},
   "outputs": [
    {
     "data": {
      "image/png": "[encoded data removed]",
      "text/plain": [
       "<Figure size 432x288 with 1 Axes>"
      ]
     },
     "metadata": {
      "needs_background": "light"
     },
     "output_type": "display_data"
    }
   ],
   "source": [
    "plt.scatter(x_train, y_train)\n",
    "plt.title('Training Set: Hours Vs Scores', color='r', size=15)\n",
    "plt.xlabel('Hours', color='b', size=12)\n",
    "plt.ylabel('Scores', color='b', size=12)\n",
    "plt.show()"
   ]
  },
  {
   "cell_type": "markdown",
   "id": "4e6abf38",
   "metadata": {},
   "source": [
    "The Training model has linear Relation between Hours and Score of Study"
   ]
  },
  {
   "cell_type": "markdown",
   "id": "4c10b80f",
   "metadata": {},
   "source": [
    "# Making Predictions"
   ]
  },
  {
   "cell_type": "code",
   "execution_count": 12,
   "id": "f94f6dfc",
   "metadata": {},
   "outputs": [],
   "source": [
    "prediction= model.predict(x_test)"
   ]
  },
  {
   "cell_type": "code",
   "execution_count": 13,
   "id": "ad50c57e",
   "metadata": {},
   "outputs": [
    {
     "data": {
      "text/plain": [
       "array([61.40932924, 55.50796933, 20.09980991, 45.67236949, 12.23133003,\n",
       "       77.14628898, 74.19560903, 59.44220927])"
      ]
     },
     "execution_count": 13,
     "metadata": {},
     "output_type": "execute_result"
    }
   ],
   "source": [
    "prediction"
   ]
  },
  {
   "cell_type": "markdown",
   "id": "2ffcc830",
   "metadata": {},
   "source": [
    "## Checking the Prediction"
   ]
  },
  {
   "cell_type": "code",
   "execution_count": 14,
   "id": "fc41d913",
   "metadata": {},
   "outputs": [
    {
     "data": {
      "text/html": [
       "<div>\n",
       "<style scoped>\n",
       "    .dataframe tbody tr th:only-of-type {\n",
       "        vertical-align: middle;\n",
       "    }\n",
       "\n",
       "    .dataframe tbody tr th {\n",
       "        vertical-align: top;\n",
       "    }\n",
       "\n",
       "    .dataframe thead th {\n",
       "        text-align: right;\n",
       "    }\n",
       "</style>\n",
       "<table border=\"1\" class=\"dataframe\">\n",
       "  <thead>\n",
       "    <tr style=\"text-align: right;\">\n",
       "      <th></th>\n",
       "      <th>Actual</th>\n",
       "      <th>Predicted</th>\n",
       "      <th>Difference</th>\n",
       "    </tr>\n",
       "  </thead>\n",
       "  <tbody>\n",
       "    <tr>\n",
       "      <th>0</th>\n",
       "      <td>67</td>\n",
       "      <td>61.409329</td>\n",
       "      <td>5.590671</td>\n",
       "    </tr>\n",
       "    <tr>\n",
       "      <th>1</th>\n",
       "      <td>60</td>\n",
       "      <td>55.507969</td>\n",
       "      <td>4.492031</td>\n",
       "    </tr>\n",
       "    <tr>\n",
       "      <th>2</th>\n",
       "      <td>24</td>\n",
       "      <td>20.099810</td>\n",
       "      <td>3.900190</td>\n",
       "    </tr>\n",
       "    <tr>\n",
       "      <th>3</th>\n",
       "      <td>41</td>\n",
       "      <td>45.672369</td>\n",
       "      <td>-4.672369</td>\n",
       "    </tr>\n",
       "    <tr>\n",
       "      <th>4</th>\n",
       "      <td>17</td>\n",
       "      <td>12.231330</td>\n",
       "      <td>4.768670</td>\n",
       "    </tr>\n",
       "    <tr>\n",
       "      <th>5</th>\n",
       "      <td>85</td>\n",
       "      <td>77.146289</td>\n",
       "      <td>7.853711</td>\n",
       "    </tr>\n",
       "    <tr>\n",
       "      <th>6</th>\n",
       "      <td>69</td>\n",
       "      <td>74.195609</td>\n",
       "      <td>-5.195609</td>\n",
       "    </tr>\n",
       "    <tr>\n",
       "      <th>7</th>\n",
       "      <td>62</td>\n",
       "      <td>59.442209</td>\n",
       "      <td>2.557791</td>\n",
       "    </tr>\n",
       "  </tbody>\n",
       "</table>\n",
       "</div>"
      ],
      "text/plain": [
       "   Actual  Predicted  Difference\n",
       "0      67  61.409329    5.590671\n",
       "1      60  55.507969    4.492031\n",
       "2      24  20.099810    3.900190\n",
       "3      41  45.672369   -4.672369\n",
       "4      17  12.231330    4.768670\n",
       "5      85  77.146289    7.853711\n",
       "6      69  74.195609   -5.195609\n",
       "7      62  59.442209    2.557791"
      ]
     },
     "execution_count": 14,
     "metadata": {},
     "output_type": "execute_result"
    }
   ],
   "source": [
    "prediction_y= pd.DataFrame({'Actual':y_test, 'Predicted': prediction, 'Difference': y_test-prediction})\n",
    "prediction_y"
   ]
  },
  {
   "cell_type": "markdown",
   "id": "10923476",
   "metadata": {},
   "source": [
    "# *Checking the Accuracy of the Model*"
   ]
  },
  {
   "cell_type": "code",
   "execution_count": 15,
   "id": "21b66435",
   "metadata": {},
   "outputs": [
    {
     "data": {
      "text/plain": [
       "0.9468894432910523"
      ]
     },
     "execution_count": 15,
     "metadata": {},
     "output_type": "execute_result"
    }
   ],
   "source": [
    "model.score(x_test, y_test)"
   ]
  },
  {
   "cell_type": "markdown",
   "id": "f74005d0",
   "metadata": {},
   "source": [
    "The Model is 94% Accurate"
   ]
  },
  {
   "cell_type": "markdown",
   "id": "3b93dcc3",
   "metadata": {},
   "source": [
    "# Plotting the Actual VS Predicted Score"
   ]
  },
  {
   "cell_type": "code",
   "execution_count": 16,
   "id": "2913d6bf",
   "metadata": {},
   "outputs": [
    {
     "name": "stderr",
     "output_type": "stream",
     "text": [
      "C:\\Users\\SHAIKH MARIYA\\AppData\\Local\\Programs\\Python\\Python39\\lib\\site-packages\\seaborn\\distributions.py:2619: FutureWarning: `distplot` is a deprecated function and will be removed in a future version. Please adapt your code to use either `displot` (a figure-level function with similar flexibility) or `kdeplot` (an axes-level function for kernel density plots).\n",
      "  warnings.warn(msg, FutureWarning)\n",
      "C:\\Users\\SHAIKH MARIYA\\AppData\\Local\\Programs\\Python\\Python39\\lib\\site-packages\\seaborn\\distributions.py:2619: FutureWarning: `distplot` is a deprecated function and will be removed in a future version. Please adapt your code to use either `displot` (a figure-level function with similar flexibility) or `kdeplot` (an axes-level function for kernel density plots).\n",
      "  warnings.warn(msg, FutureWarning)\n"
     ]
    },
    {
     "data": {
      "image/png": "[encoded data removed]",
      "text/plain": [
       "<Figure size 432x288 with 1 Axes>"
      ]
     },
     "metadata": {
      "needs_background": "light"
     },
     "output_type": "display_data"
    }
   ],
   "source": [
    "sns.distplot(prediction_y['Actual'], hist= False, color='r', label='Actual Score')\n",
    "sns.distplot(prediction_y['Predicted'], hist=False, color='b', label='Predicted Score')\n",
    "plt.title('Actual VS Predicted', color='purple', size=15)\n",
    "plt.legend()\n",
    "plt.show()"
   ]
  },
  {
   "cell_type": "markdown",
   "id": "3183448a",
   "metadata": {},
   "source": [
    "# *What will be the Score if a Student studies 9.25 hrs/day?*"
   ]
  },
  {
   "cell_type": "code",
   "execution_count": 17,
   "id": "3d7e3428",
   "metadata": {},
   "outputs": [
    {
     "name": "stdout",
     "output_type": "stream",
     "text": [
      "The predicted score if the student studies for 9.25 hrs/day is [92.39146874]\n"
     ]
    }
   ],
   "source": [
    "pred= model.predict([[9.25]])\n",
    "print('The predicted score if the student studies for 9.25 hrs/day is', pred)"
   ]
  },
  {
   "cell_type": "markdown",
   "id": "105ac58a",
   "metadata": {},
   "source": [
    "# From this I can conclude that if the student studies 9.25 hrs/day it can score 92.39%"
   ]
  },
  {
   "cell_type": "code",
   "execution_count": null,
   "id": "ed4e1866",
   "metadata": {},
   "outputs": [],
   "source": []
  }
 ],
 "metadata": {
  "kernelspec": {
   "display_name": "Python 3 (ipykernel)",
   "language": "python",
   "name": "python3"
  },
  "language_info": {
   "codemirror_mode": {
    "name": "ipython",
    "version": 3
   },
   "file_extension": ".py",
   "mimetype": "text/x-python",
   "name": "python",
   "nbconvert_exporter": "python",
   "pygments_lexer": "ipython3",
   "version": "3.9.7"
  }
 },
 "nbformat": 4,
 "nbformat_minor": 5
}
